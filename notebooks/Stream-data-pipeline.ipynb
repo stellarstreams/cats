{
 "cells": [
  {
   "cell_type": "code",
   "execution_count": 6,
   "id": "8912ba6d",
   "metadata": {
    "ExecuteTime": {
     "end_time": "2022-11-02T20:42:08.661399Z",
     "start_time": "2022-11-02T20:42:08.643602Z"
    }
   },
   "outputs": [],
   "source": [
    "from __future__ import annotations\n",
    "\n",
    "import astropy.coordinates as coord\n",
    "import astropy.table as at\n",
    "import astropy.units as u\n",
    "\n",
    "%matplotlib inline\n",
    "\n",
    "import sys\n",
    "\n",
    "import galstreams\n",
    "from pyia import GaiaData\n",
    "\n",
    "sys.path.append(\"../\")\n",
    "import cats.photometry as phot\n",
    "from cats.data import make_astro_photo_joined_data"
   ]
  },
  {
   "cell_type": "code",
   "execution_count": 7,
   "id": "8aec9b5f",
   "metadata": {
    "ExecuteTime": {
     "end_time": "2022-11-02T20:39:12.141332Z",
     "start_time": "2022-11-02T20:38:47.039263Z"
    }
   },
   "outputs": [
    {
     "name": "stdout",
     "output_type": "stream",
     "text": [
      "Initializing galstreams library from master_log... \n"
     ]
    }
   ],
   "source": [
    "mws = galstreams.MWStreams(verbose=False, implement_Off=True)"
   ]
  },
  {
   "cell_type": "markdown",
   "id": "cc9300ac",
   "metadata": {},
   "source": [
    "# GD-1"
   ]
  },
  {
   "cell_type": "code",
   "execution_count": 6,
   "id": "697384a8",
   "metadata": {
    "ExecuteTime": {
     "end_time": "2022-11-02T20:42:23.065244Z",
     "start_time": "2022-11-02T20:42:12.763395Z"
    }
   },
   "outputs": [],
   "source": [
    "name = \"GD-1\"\n",
    "ms_name = \"GD-1-PB18\"\n",
    "g = GaiaData(f\"../data/GaiaDR3-{name}-all.fits\")\n",
    "p = phot.PS1Phot(\"../data/PS1DR2-GD-1_xm.fits\")\n",
    "gs = mws[ms_name]"
   ]
  },
  {
   "cell_type": "code",
   "execution_count": 8,
   "id": "078f836e",
   "metadata": {
    "ExecuteTime": {
     "end_time": "2022-11-02T20:45:01.940522Z",
     "start_time": "2022-11-02T20:43:24.317948Z"
    }
   },
   "outputs": [
    {
     "name": "stdout",
     "output_type": "stream",
     "text": [
      "/mnt/home/apricewhelan/anaconda3/lib/python3.9/site-packages/astropy/io/fits/card.py:264: VerifyWarning: Keyword name 'band_names' is greater than 8 characters or contains characters not allowed by the FITS standard; a HIERARCH card will be created.\n",
      "  warnings.warn(\n",
      "\n"
     ]
    }
   ],
   "source": [
    "joined = make_astro_photo_joined_data(g, p, gs)\n",
    "joined.write(f\"../data/joined-{name}.fits\", overwrite=True)"
   ]
  },
  {
   "cell_type": "markdown",
   "id": "1de8b618",
   "metadata": {},
   "source": [
    "# Pal 5"
   ]
  },
  {
   "cell_type": "code",
   "execution_count": 8,
   "id": "182e57d2",
   "metadata": {
    "ExecuteTime": {
     "end_time": "2022-11-02T20:45:50.817619Z",
     "start_time": "2022-11-02T20:45:48.934191Z"
    }
   },
   "outputs": [
    {
     "ename": "FileNotFoundError",
     "evalue": "[Errno 2] No such file or directory: '../data/GaiaDR3-Pal5-all.fits'",
     "output_type": "error",
     "traceback": [
      "\u001b[0;31m---------------------------------------------------------------------------\u001b[0m",
      "\u001b[0;31mFileNotFoundError\u001b[0m                         Traceback (most recent call last)",
      "\u001b[0;32m/var/folders/f1/wqzqbly11d9__jf5mjckhwvm0000gp/T/ipykernel_86993/2782858000.py\u001b[0m in \u001b[0;36m<module>\u001b[0;34m\u001b[0m\n\u001b[1;32m      1\u001b[0m \u001b[0mname\u001b[0m \u001b[0;34m=\u001b[0m \u001b[0;34m'Pal5'\u001b[0m\u001b[0;34m\u001b[0m\u001b[0;34m\u001b[0m\u001b[0m\n\u001b[1;32m      2\u001b[0m \u001b[0mms_name\u001b[0m \u001b[0;34m=\u001b[0m \u001b[0;34m'Pal5-PW19'\u001b[0m\u001b[0;34m\u001b[0m\u001b[0;34m\u001b[0m\u001b[0m\n\u001b[0;32m----> 3\u001b[0;31m \u001b[0mg\u001b[0m \u001b[0;34m=\u001b[0m \u001b[0mGaiaData\u001b[0m\u001b[0;34m(\u001b[0m\u001b[0;34mf'../data/GaiaDR3-{name}-all.fits'\u001b[0m\u001b[0;34m)\u001b[0m\u001b[0;34m\u001b[0m\u001b[0;34m\u001b[0m\u001b[0m\n\u001b[0m\u001b[1;32m      4\u001b[0m \u001b[0mp\u001b[0m \u001b[0;34m=\u001b[0m \u001b[0mphot\u001b[0m\u001b[0;34m.\u001b[0m\u001b[0mPS1Phot\u001b[0m\u001b[0;34m(\u001b[0m\u001b[0;34m'../data/PS1DR2-Pal5_xm.fits'\u001b[0m\u001b[0;34m)\u001b[0m\u001b[0;34m\u001b[0m\u001b[0;34m\u001b[0m\u001b[0m\n\u001b[1;32m      5\u001b[0m \u001b[0mgs\u001b[0m \u001b[0;34m=\u001b[0m \u001b[0mmws\u001b[0m\u001b[0;34m[\u001b[0m\u001b[0mms_name\u001b[0m\u001b[0;34m]\u001b[0m\u001b[0;34m\u001b[0m\u001b[0;34m\u001b[0m\u001b[0m\n",
      "\u001b[0;32m/Library/Frameworks/Python.framework/Versions/3.7/lib/python3.7/site-packages/pyia/data.py\u001b[0m in \u001b[0;36m__init__\u001b[0;34m(self, data, **kwargs)\u001b[0m\n\u001b[1;32m     96\u001b[0m         \u001b[0;32mif\u001b[0m \u001b[0;32mnot\u001b[0m \u001b[0misinstance\u001b[0m\u001b[0;34m(\u001b[0m\u001b[0mdata\u001b[0m\u001b[0;34m,\u001b[0m \u001b[0mTable\u001b[0m\u001b[0;34m)\u001b[0m\u001b[0;34m:\u001b[0m\u001b[0;34m\u001b[0m\u001b[0;34m\u001b[0m\u001b[0m\n\u001b[1;32m     97\u001b[0m             \u001b[0;32mif\u001b[0m \u001b[0misinstance\u001b[0m\u001b[0;34m(\u001b[0m\u001b[0mdata\u001b[0m\u001b[0;34m,\u001b[0m \u001b[0;34m(\u001b[0m\u001b[0mstr\u001b[0m\u001b[0;34m,\u001b[0m \u001b[0mpathlib\u001b[0m\u001b[0;34m.\u001b[0m\u001b[0mPath\u001b[0m\u001b[0;34m)\u001b[0m\u001b[0;34m)\u001b[0m\u001b[0;34m:\u001b[0m\u001b[0;34m\u001b[0m\u001b[0;34m\u001b[0m\u001b[0m\n\u001b[0;32m---> 98\u001b[0;31m                 \u001b[0mdata\u001b[0m \u001b[0;34m=\u001b[0m \u001b[0mTable\u001b[0m\u001b[0;34m.\u001b[0m\u001b[0mread\u001b[0m\u001b[0;34m(\u001b[0m\u001b[0mdata\u001b[0m\u001b[0;34m,\u001b[0m \u001b[0;34m**\u001b[0m\u001b[0mkwargs\u001b[0m\u001b[0;34m)\u001b[0m\u001b[0;34m\u001b[0m\u001b[0;34m\u001b[0m\u001b[0m\n\u001b[0m\u001b[1;32m     99\u001b[0m \u001b[0;34m\u001b[0m\u001b[0m\n\u001b[1;32m    100\u001b[0m             \u001b[0;32melse\u001b[0m\u001b[0;34m:\u001b[0m\u001b[0;34m\u001b[0m\u001b[0;34m\u001b[0m\u001b[0m\n",
      "\u001b[0;32m/Library/Frameworks/Python.framework/Versions/3.7/lib/python3.7/site-packages/astropy/table/connect.py\u001b[0m in \u001b[0;36m__call__\u001b[0;34m(self, *args, **kwargs)\u001b[0m\n\u001b[1;32m     59\u001b[0m         \u001b[0mdescriptions\u001b[0m \u001b[0;34m=\u001b[0m \u001b[0mkwargs\u001b[0m\u001b[0;34m.\u001b[0m\u001b[0mpop\u001b[0m\u001b[0;34m(\u001b[0m\u001b[0;34m'descriptions'\u001b[0m\u001b[0;34m,\u001b[0m \u001b[0;32mNone\u001b[0m\u001b[0;34m)\u001b[0m\u001b[0;34m\u001b[0m\u001b[0;34m\u001b[0m\u001b[0m\n\u001b[1;32m     60\u001b[0m \u001b[0;34m\u001b[0m\u001b[0m\n\u001b[0;32m---> 61\u001b[0;31m         \u001b[0mout\u001b[0m \u001b[0;34m=\u001b[0m \u001b[0mregistry\u001b[0m\u001b[0;34m.\u001b[0m\u001b[0mread\u001b[0m\u001b[0;34m(\u001b[0m\u001b[0mcls\u001b[0m\u001b[0;34m,\u001b[0m \u001b[0;34m*\u001b[0m\u001b[0margs\u001b[0m\u001b[0;34m,\u001b[0m \u001b[0;34m**\u001b[0m\u001b[0mkwargs\u001b[0m\u001b[0;34m)\u001b[0m\u001b[0;34m\u001b[0m\u001b[0;34m\u001b[0m\u001b[0m\n\u001b[0m\u001b[1;32m     62\u001b[0m \u001b[0;34m\u001b[0m\u001b[0m\n\u001b[1;32m     63\u001b[0m         \u001b[0;31m# For some readers (e.g., ascii.ecsv), the returned `out` class is not\u001b[0m\u001b[0;34m\u001b[0m\u001b[0;34m\u001b[0m\u001b[0;34m\u001b[0m\u001b[0m\n",
      "\u001b[0;32m/Library/Frameworks/Python.framework/Versions/3.7/lib/python3.7/site-packages/astropy/io/registry.py\u001b[0m in \u001b[0;36mread\u001b[0;34m(cls, format, cache, *args, **kwargs)\u001b[0m\n\u001b[1;32m    510\u001b[0m                     \u001b[0;32mtry\u001b[0m\u001b[0;34m:\u001b[0m\u001b[0;34m\u001b[0m\u001b[0;34m\u001b[0m\u001b[0m\n\u001b[1;32m    511\u001b[0m                         \u001b[0mctx\u001b[0m \u001b[0;34m=\u001b[0m \u001b[0mget_readable_fileobj\u001b[0m\u001b[0;34m(\u001b[0m\u001b[0margs\u001b[0m\u001b[0;34m[\u001b[0m\u001b[0;36m0\u001b[0m\u001b[0;34m]\u001b[0m\u001b[0;34m,\u001b[0m \u001b[0mencoding\u001b[0m\u001b[0;34m=\u001b[0m\u001b[0;34m'binary'\u001b[0m\u001b[0;34m,\u001b[0m \u001b[0mcache\u001b[0m\u001b[0;34m=\u001b[0m\u001b[0mcache\u001b[0m\u001b[0;34m)\u001b[0m\u001b[0;34m\u001b[0m\u001b[0;34m\u001b[0m\u001b[0m\n\u001b[0;32m--> 512\u001b[0;31m                         \u001b[0mfileobj\u001b[0m \u001b[0;34m=\u001b[0m \u001b[0mctx\u001b[0m\u001b[0;34m.\u001b[0m\u001b[0m__enter__\u001b[0m\u001b[0;34m(\u001b[0m\u001b[0;34m)\u001b[0m\u001b[0;34m\u001b[0m\u001b[0;34m\u001b[0m\u001b[0m\n\u001b[0m\u001b[1;32m    513\u001b[0m                     \u001b[0;32mexcept\u001b[0m \u001b[0mOSError\u001b[0m\u001b[0;34m:\u001b[0m\u001b[0;34m\u001b[0m\u001b[0;34m\u001b[0m\u001b[0m\n\u001b[1;32m    514\u001b[0m                         \u001b[0;32mraise\u001b[0m\u001b[0;34m\u001b[0m\u001b[0;34m\u001b[0m\u001b[0m\n",
      "\u001b[0;32m/Library/Frameworks/Python.framework/Versions/3.7/lib/python3.7/contextlib.py\u001b[0m in \u001b[0;36m__enter__\u001b[0;34m(self)\u001b[0m\n\u001b[1;32m    110\u001b[0m         \u001b[0;32mdel\u001b[0m \u001b[0mself\u001b[0m\u001b[0;34m.\u001b[0m\u001b[0margs\u001b[0m\u001b[0;34m,\u001b[0m \u001b[0mself\u001b[0m\u001b[0;34m.\u001b[0m\u001b[0mkwds\u001b[0m\u001b[0;34m,\u001b[0m \u001b[0mself\u001b[0m\u001b[0;34m.\u001b[0m\u001b[0mfunc\u001b[0m\u001b[0;34m\u001b[0m\u001b[0;34m\u001b[0m\u001b[0m\n\u001b[1;32m    111\u001b[0m         \u001b[0;32mtry\u001b[0m\u001b[0;34m:\u001b[0m\u001b[0;34m\u001b[0m\u001b[0;34m\u001b[0m\u001b[0m\n\u001b[0;32m--> 112\u001b[0;31m             \u001b[0;32mreturn\u001b[0m \u001b[0mnext\u001b[0m\u001b[0;34m(\u001b[0m\u001b[0mself\u001b[0m\u001b[0;34m.\u001b[0m\u001b[0mgen\u001b[0m\u001b[0;34m)\u001b[0m\u001b[0;34m\u001b[0m\u001b[0;34m\u001b[0m\u001b[0m\n\u001b[0m\u001b[1;32m    113\u001b[0m         \u001b[0;32mexcept\u001b[0m \u001b[0mStopIteration\u001b[0m\u001b[0;34m:\u001b[0m\u001b[0;34m\u001b[0m\u001b[0;34m\u001b[0m\u001b[0m\n\u001b[1;32m    114\u001b[0m             \u001b[0;32mraise\u001b[0m \u001b[0mRuntimeError\u001b[0m\u001b[0;34m(\u001b[0m\u001b[0;34m\"generator didn't yield\"\u001b[0m\u001b[0;34m)\u001b[0m \u001b[0;32mfrom\u001b[0m \u001b[0;32mNone\u001b[0m\u001b[0;34m\u001b[0m\u001b[0;34m\u001b[0m\u001b[0m\n",
      "\u001b[0;32m/Library/Frameworks/Python.framework/Versions/3.7/lib/python3.7/site-packages/astropy/utils/data.py\u001b[0m in \u001b[0;36mget_readable_fileobj\u001b[0;34m(name_or_obj, encoding, cache, show_progress, remote_timeout, sources, http_headers)\u001b[0m\n\u001b[1;32m    260\u001b[0m                 \u001b[0mtimeout\u001b[0m\u001b[0;34m=\u001b[0m\u001b[0mremote_timeout\u001b[0m\u001b[0;34m,\u001b[0m \u001b[0msources\u001b[0m\u001b[0;34m=\u001b[0m\u001b[0msources\u001b[0m\u001b[0;34m,\u001b[0m\u001b[0;34m\u001b[0m\u001b[0;34m\u001b[0m\u001b[0m\n\u001b[1;32m    261\u001b[0m                 http_headers=http_headers)\n\u001b[0;32m--> 262\u001b[0;31m         \u001b[0mfileobj\u001b[0m \u001b[0;34m=\u001b[0m \u001b[0mio\u001b[0m\u001b[0;34m.\u001b[0m\u001b[0mFileIO\u001b[0m\u001b[0;34m(\u001b[0m\u001b[0mname_or_obj\u001b[0m\u001b[0;34m,\u001b[0m \u001b[0;34m'r'\u001b[0m\u001b[0;34m)\u001b[0m\u001b[0;34m\u001b[0m\u001b[0;34m\u001b[0m\u001b[0m\n\u001b[0m\u001b[1;32m    263\u001b[0m         \u001b[0;32mif\u001b[0m \u001b[0mis_url\u001b[0m \u001b[0;32mand\u001b[0m \u001b[0;32mnot\u001b[0m \u001b[0mcache\u001b[0m\u001b[0;34m:\u001b[0m\u001b[0;34m\u001b[0m\u001b[0;34m\u001b[0m\u001b[0m\n\u001b[1;32m    264\u001b[0m             \u001b[0mdelete_fds\u001b[0m\u001b[0;34m.\u001b[0m\u001b[0mappend\u001b[0m\u001b[0;34m(\u001b[0m\u001b[0mfileobj\u001b[0m\u001b[0;34m)\u001b[0m\u001b[0;34m\u001b[0m\u001b[0;34m\u001b[0m\u001b[0m\n",
      "\u001b[0;31mFileNotFoundError\u001b[0m: [Errno 2] No such file or directory: '../data/GaiaDR3-Pal5-all.fits'"
     ]
    }
   ],
   "source": [
    "name = \"Pal5\"\n",
    "ms_name = \"Pal5-PW19\"\n",
    "g = GaiaData(f\"../data/GaiaDR3-{name}-all.fits\")\n",
    "p = phot.PS1Phot(\"../data/PS1DR2-Pal5_xm.fits\")\n",
    "gs = mws[ms_name]"
   ]
  },
  {
   "cell_type": "code",
   "execution_count": 11,
   "id": "d7efbe39",
   "metadata": {
    "ExecuteTime": {
     "end_time": "2022-11-02T20:46:15.592591Z",
     "start_time": "2022-11-02T20:45:52.717442Z"
    }
   },
   "outputs": [
    {
     "name": "stdout",
     "output_type": "stream",
     "text": [
      "/mnt/home/apricewhelan/anaconda3/lib/python3.9/site-packages/astropy/io/fits/card.py:264: VerifyWarning: Keyword name 'band_names' is greater than 8 characters or contains characters not allowed by the FITS standard; a HIERARCH card will be created.\n",
      "  warnings.warn(\n",
      "\n"
     ]
    }
   ],
   "source": [
    "joined = make_astro_photo_joined_data(g, p, gs)\n",
    "joined.write(f\"../data/joined-{name}.fits\", overwrite=True)"
   ]
  },
  {
   "cell_type": "markdown",
   "id": "9dc9aacb",
   "metadata": {},
   "source": [
    "# Jhelum"
   ]
  },
  {
   "cell_type": "code",
   "execution_count": 19,
   "id": "6f75e5f7",
   "metadata": {
    "ExecuteTime": {
     "end_time": "2022-11-02T20:51:56.416737Z",
     "start_time": "2022-11-02T20:51:52.511003Z"
    }
   },
   "outputs": [],
   "source": [
    "tbl_gaia = at.Table.read(\"../data/GaiaDR3-Jhelum-all.fits\")\n",
    "tbl_des = at.Table.read(\"../data/Jhelum/jhelum_desy6.fits\")\n",
    "\n",
    "c_des = coord.SkyCoord(tbl_des[\"RA\"] * u.deg, tbl_des[\"DEC\"] * u.deg)\n",
    "c_gaia = coord.SkyCoord(tbl_gaia[\"ra\"] * u.deg, tbl_gaia[\"dec\"] * u.deg)"
   ]
  },
  {
   "cell_type": "code",
   "execution_count": 20,
   "id": "97488015",
   "metadata": {
    "ExecuteTime": {
     "end_time": "2022-11-02T20:52:13.603378Z",
     "start_time": "2022-11-02T20:52:08.175854Z"
    }
   },
   "outputs": [],
   "source": [
    "idx, sep, _ = c_gaia.match_to_catalog_sky(c_des)"
   ]
  },
  {
   "cell_type": "code",
   "execution_count": 27,
   "id": "912897a9",
   "metadata": {
    "ExecuteTime": {
     "end_time": "2022-11-02T20:53:15.703477Z",
     "start_time": "2022-11-02T20:53:14.519848Z"
    }
   },
   "outputs": [],
   "source": [
    "sep_mask = sep < 3 * u.arcsec\n",
    "tbl_des_sub = tbl_des[idx[sep_mask]]\n",
    "tbl_des_sub[\"source_id\"] = tbl_gaia[sep_mask][\"source_id\"]"
   ]
  },
  {
   "cell_type": "code",
   "execution_count": 29,
   "id": "70c4a5b0",
   "metadata": {
    "ExecuteTime": {
     "end_time": "2022-11-02T20:53:54.355333Z",
     "start_time": "2022-11-02T20:53:53.573199Z"
    }
   },
   "outputs": [],
   "source": [
    "name = \"Jhelum\"\n",
    "ms_name = \"Jhelum-b-B19\"\n",
    "g = GaiaData(f\"../data/GaiaDR3-{name}-all.fits\")\n",
    "p = phot.DESY6Phot(tbl_des_sub)\n",
    "gs = mws[ms_name]"
   ]
  },
  {
   "cell_type": "code",
   "execution_count": 30,
   "id": "b4aa499a",
   "metadata": {
    "ExecuteTime": {
     "end_time": "2022-11-02T20:54:23.392949Z",
     "start_time": "2022-11-02T20:54:02.244147Z"
    }
   },
   "outputs": [
    {
     "name": "stdout",
     "output_type": "stream",
     "text": [
      "/mnt/home/apricewhelan/anaconda3/lib/python3.9/site-packages/astropy/io/fits/card.py:264: VerifyWarning: Keyword name 'band_names' is greater than 8 characters or contains characters not allowed by the FITS standard; a HIERARCH card will be created.\n",
      "  warnings.warn(\n",
      "\n"
     ]
    }
   ],
   "source": [
    "joined = make_astro_photo_joined_data(g, p, gs)\n",
    "joined.write(f\"../data/joined-{name}.fits\", overwrite=True)"
   ]
  },
  {
   "cell_type": "markdown",
   "id": "54f8ff66",
   "metadata": {},
   "source": [
    "# PS1-A"
   ]
  },
  {
   "cell_type": "code",
   "execution_count": 31,
   "id": "e19fd792",
   "metadata": {
    "ExecuteTime": {
     "end_time": "2022-11-02T20:54:28.105108Z",
     "start_time": "2022-11-02T20:54:27.801670Z"
    }
   },
   "outputs": [],
   "source": [
    "name = \"PS1-A\"\n",
    "ms_name = \"PS1-A-B16\"\n",
    "g = GaiaData(f\"../data/GaiaDR3-{name}-all.fits\")\n",
    "p = phot.PS1Phot(\"../data/PS1DR2-PS1-A_xm.fits\")\n",
    "gs = mws[ms_name]"
   ]
  },
  {
   "cell_type": "code",
   "execution_count": 32,
   "id": "f16db284",
   "metadata": {
    "ExecuteTime": {
     "end_time": "2022-11-02T20:54:32.550507Z",
     "start_time": "2022-11-02T20:54:31.339253Z"
    }
   },
   "outputs": [
    {
     "name": "stdout",
     "output_type": "stream",
     "text": [
      "/mnt/home/apricewhelan/anaconda3/lib/python3.9/site-packages/astropy/io/fits/card.py:264: VerifyWarning: Keyword name 'band_names' is greater than 8 characters or contains characters not allowed by the FITS standard; a HIERARCH card will be created.\n",
      "  warnings.warn(\n",
      "\n"
     ]
    }
   ],
   "source": [
    "joined = make_astro_photo_joined_data(g, p, gs)\n",
    "joined.write(f\"../data/joined-{name}.fits\", overwrite=True)"
   ]
  },
  {
   "cell_type": "markdown",
   "id": "376b432d",
   "metadata": {},
   "source": [
    "# Fjorm"
   ]
  },
  {
   "cell_type": "code",
   "execution_count": 34,
   "id": "13683d10",
   "metadata": {
    "ExecuteTime": {
     "end_time": "2022-11-02T20:55:42.110553Z",
     "start_time": "2022-11-02T20:55:24.934867Z"
    }
   },
   "outputs": [],
   "source": [
    "name = \"Fjorm-M68\"\n",
    "ms_name = \"M68-P19\"\n",
    "g = GaiaData(f\"../data/GaiaDR3-{name}-all.fits\")\n",
    "p = phot.GaiaDR3Phot(g.data)\n",
    "gs = mws[ms_name]"
   ]
  },
  {
   "cell_type": "code",
   "execution_count": 35,
   "id": "80fdf47c",
   "metadata": {
    "ExecuteTime": {
     "end_time": "2022-11-02T20:59:34.778343Z",
     "start_time": "2022-11-02T20:55:55.609273Z"
    }
   },
   "outputs": [],
   "source": [
    "joined = make_astro_photo_joined_data(g, p, gs)\n",
    "joined.write(f\"../data/joined-{name}.fits\", overwrite=True)"
   ]
  },
  {
   "cell_type": "code",
   "execution_count": null,
   "id": "e0502347",
   "metadata": {},
   "outputs": [],
   "source": []
  }
 ],
 "metadata": {
  "kernelspec": {
   "display_name": "Python 3 (ipykernel)",
   "language": "python",
   "name": "python3"
  },
  "language_info": {
   "codemirror_mode": {
    "name": "ipython",
    "version": 3
   },
   "file_extension": ".py",
   "mimetype": "text/x-python",
   "name": "python",
   "nbconvert_exporter": "python",
   "pygments_lexer": "ipython3",
   "version": "3.10.9"
  },
  "toc": {
   "base_numbering": 1,
   "nav_menu": {},
   "number_sections": true,
   "sideBar": true,
   "skip_h1_title": false,
   "title_cell": "Table of Contents",
   "title_sidebar": "Contents",
   "toc_cell": false,
   "toc_position": {},
   "toc_section_display": true,
   "toc_window_display": false
  }
 },
 "nbformat": 4,
 "nbformat_minor": 5
}
